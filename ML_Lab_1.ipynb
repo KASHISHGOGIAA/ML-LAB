{
  "nbformat": 4,
  "nbformat_minor": 0,
  "metadata": {
    "colab": {
      "provenance": [],
      "authorship_tag": "ABX9TyOo73GGGcY9uzBc7Z4+Ys1M",
      "include_colab_link": true
    },
    "kernelspec": {
      "name": "python3",
      "display_name": "Python 3"
    },
    "language_info": {
      "name": "python"
    }
  },
  "cells": [
    {
      "cell_type": "markdown",
      "metadata": {
        "id": "view-in-github",
        "colab_type": "text"
      },
      "source": [
        "<a href=\"https://colab.research.google.com/github/KASHISHGOGIAA/ML-LAB/blob/main/ML_Lab_1.ipynb\" target=\"_parent\"><img src=\"https://colab.research.google.com/assets/colab-badge.svg\" alt=\"Open In Colab\"/></a>"
      ]
    },
    {
      "cell_type": "code",
      "source": [
        "import numpy as np\n",
        "lst1=[1,2,3]\n",
        "array1 = np.array(lst1)"
      ],
      "metadata": {
        "id": "oWUkg6M5ANsU"
      },
      "execution_count": null,
      "outputs": []
    },
    {
      "cell_type": "code",
      "source": [
        "type(lst1)\n"
      ],
      "metadata": {
        "colab": {
          "base_uri": "https://localhost:8080/"
        },
        "id": "MP7xqJ_DAclg",
        "outputId": "1076e869-2298-4350-e3d8-4ec6c386f45f"
      },
      "execution_count": null,
      "outputs": [
        {
          "output_type": "execute_result",
          "data": {
            "text/plain": [
              "list"
            ]
          },
          "metadata": {},
          "execution_count": 3
        }
      ]
    },
    {
      "cell_type": "code",
      "source": [
        "type(array1)"
      ],
      "metadata": {
        "colab": {
          "base_uri": "https://localhost:8080/"
        },
        "id": "YhKTUcTbAkmA",
        "outputId": "f6bd2047-9d4a-42b7-8ecd-5ed089208529"
      },
      "execution_count": null,
      "outputs": [
        {
          "output_type": "execute_result",
          "data": {
            "text/plain": [
              "numpy.ndarray"
            ]
          },
          "metadata": {},
          "execution_count": 4
        }
      ]
    },
    {
      "cell_type": "code",
      "source": [
        "lst2=[10,11,12]\n",
        "array2 = np.array(lst2)"
      ],
      "metadata": {
        "id": "cmls8wBrAzeF"
      },
      "execution_count": null,
      "outputs": []
    },
    {
      "cell_type": "code",
      "source": [
        "print(f\"Adding two lists {lst1} and {lst2} together: {lst1+lst2}\")"
      ],
      "metadata": {
        "colab": {
          "base_uri": "https://localhost:8080/"
        },
        "id": "kkNOf3VfA79o",
        "outputId": "f27f51b9-16aa-4f5f-da8c-112190f7bbc4"
      },
      "execution_count": null,
      "outputs": [
        {
          "output_type": "stream",
          "name": "stdout",
          "text": [
            "Adding two lists [1, 2, 3] and [10, 11, 12] together: [1, 2, 3, 10, 11, 12]\n"
          ]
        }
      ]
    },
    {
      "cell_type": "code",
      "source": [
        "print(f\"Adding two numpy arrays {array1} and {array2} together: {array1+array2}\")\n"
      ],
      "metadata": {
        "colab": {
          "base_uri": "https://localhost:8080/"
        },
        "id": "zutqT6JSBFHH",
        "outputId": "faf1093b-840d-49b6-970c-f9d96f731a79"
      },
      "execution_count": null,
      "outputs": [
        {
          "output_type": "stream",
          "name": "stdout",
          "text": [
            "Adding two numpy arrays [1 2 3] and [10 11 12] together: [11 13 15]\n"
          ]
        }
      ]
    },
    {
      "cell_type": "code",
      "source": [
        "print(\"array2 multiplied by array1: \",array1*array2)\n",
        "print(\"array2 divided by array1: \",array2/array1)\n",
        "print(\"array2 raised to the power of array1: \",array2**array1)"
      ],
      "metadata": {
        "colab": {
          "base_uri": "https://localhost:8080/"
        },
        "id": "oDw3Oy0nBQ9Q",
        "outputId": "717fa05b-220f-4d77-e120-6ceb651d45c3"
      },
      "execution_count": null,
      "outputs": [
        {
          "output_type": "stream",
          "name": "stdout",
          "text": [
            "array2 multiplied by array1:  [10 22 36]\n",
            "array2 divided by array1:  [10.   5.5  4. ]\n",
            "array2 raised to the power of array1:  [  10  121 1728]\n"
          ]
        }
      ]
    },
    {
      "cell_type": "code",
      "source": [
        "# sine function\n",
        "print(\"Sine: \",np.sin(array1))\n",
        "# logarithm\n",
        "print(\"Natural logarithm: \",np.log(array1))\n",
        "print(\"Base-10 logarithm: \",np.log10(array1))\n",
        "print(\"Base-2 logarithm: \",np.log2(array1))\n",
        "# Exponential\n",
        "print(\"Exponential: \",np.exp(array1))"
      ],
      "metadata": {
        "colab": {
          "base_uri": "https://localhost:8080/"
        },
        "id": "6SyRtpqVBa8q",
        "outputId": "626fd776-cfcd-467f-d531-56844d6b7d25"
      },
      "execution_count": null,
      "outputs": [
        {
          "output_type": "stream",
          "name": "stdout",
          "text": [
            "Sine:  [0.84147098 0.90929743 0.14112001]\n",
            "Natural logarithm:  [0.         0.69314718 1.09861229]\n",
            "Base-10 logarithm:  [0.         0.30103    0.47712125]\n",
            "Base-2 logarithm:  [0.        1.        1.5849625]\n",
            "Exponential:  [ 2.71828183  7.3890561  20.08553692]\n"
          ]
        }
      ]
    },
    {
      "cell_type": "code",
      "source": [
        "print(\"A series of zeroes:\",np.zeros(7))\n",
        "print(\"A series of ones:\",np.ones(9))\n",
        "print(\"A series of numbers:\",np.arange(5,16))\n",
        "print(\"Numbers spaced apart by 2:\",np.arange(0,11,2))\n",
        "print(\"Numbers spaced apart by float:\",np.arange(0,11,2.5))\n",
        "print(\"Every 5th number from 30 in reverse order: \",np.arange(30,-1,-5))\n",
        "print(\"11 linearly spaced numbers between 1 and 5: \",np.linspace(1,5,11))"
      ],
      "metadata": {
        "colab": {
          "base_uri": "https://localhost:8080/"
        },
        "id": "MVksfrgPBfUC",
        "outputId": "ce07a9a9-8015-4367-9024-44a9720e58f9"
      },
      "execution_count": null,
      "outputs": [
        {
          "output_type": "stream",
          "name": "stdout",
          "text": [
            "A series of zeroes: [0. 0. 0. 0. 0. 0. 0.]\n",
            "A series of ones: [1. 1. 1. 1. 1. 1. 1. 1. 1.]\n",
            "A series of numbers: [ 5  6  7  8  9 10 11 12 13 14 15]\n",
            "Numbers spaced apart by 2: [ 0  2  4  6  8 10]\n",
            "Numbers spaced apart by float: [ 0.   2.5  5.   7.5 10. ]\n",
            "Every 5th number from 30 in reverse order:  [30 25 20 15 10  5  0]\n",
            "11 linearly spaced numbers between 1 and 5:  [1.  1.4 1.8 2.2 2.6 3.  3.4 3.8 4.2 4.6 5. ]\n"
          ]
        }
      ]
    },
    {
      "cell_type": "code",
      "source": [
        "my_mat = [[1,2,3],[4,5,6],[7,8,9]]\n",
        "mat = np.array(my_mat)\n",
        "print(\"Type/Class of this object:\",type(mat))\n",
        "print(\"Here is the matrix\\n----------\\n\",mat,\"\\n----------\")"
      ],
      "metadata": {
        "colab": {
          "base_uri": "https://localhost:8080/"
        },
        "id": "HoGtIjw2Bjjo",
        "outputId": "9705ac67-d961-48d9-e0da-949f180d1417"
      },
      "execution_count": null,
      "outputs": [
        {
          "output_type": "stream",
          "name": "stdout",
          "text": [
            "Type/Class of this object: <class 'numpy.ndarray'>\n",
            "Here is the matrix\n",
            "----------\n",
            " [[1 2 3]\n",
            " [4 5 6]\n",
            " [7 8 9]] \n",
            "----------\n"
          ]
        }
      ]
    },
    {
      "cell_type": "code",
      "source": [
        "my_tuple = np.array([(1.5,2,3), (4,5,6)])\n",
        "mat_tuple = np.array(my_tuple)\n",
        "print (mat_tuple)"
      ],
      "metadata": {
        "colab": {
          "base_uri": "https://localhost:8080/"
        },
        "id": "bBkCXtePBxFf",
        "outputId": "df365e07-df30-46a1-e83c-bc0a6955b615"
      },
      "execution_count": null,
      "outputs": [
        {
          "output_type": "stream",
          "name": "stdout",
          "text": [
            "[[1.5 2.  3. ]\n",
            " [4.  5.  6. ]]\n"
          ]
        }
      ]
    },
    {
      "cell_type": "code",
      "source": [
        "print(\"Dimension of this matrix: \",mat.ndim,sep='')\n",
        "print(\"Size of this matrix: \", mat.size,sep='')\n",
        "print(\"Shape of this matrix: \", mat.shape,sep='')\n",
        "print(\"Data type of this matrix: \", mat.dtype,sep='')"
      ],
      "metadata": {
        "colab": {
          "base_uri": "https://localhost:8080/"
        },
        "id": "1c4IrshNB24X",
        "outputId": "5b6af4ae-25bf-4d6b-dbe8-d8ac7c6bcfea"
      },
      "execution_count": null,
      "outputs": [
        {
          "output_type": "stream",
          "name": "stdout",
          "text": [
            "Dimension of this matrix: 2\n",
            "Size of this matrix: 9\n",
            "Shape of this matrix: (3, 3)\n",
            "Data type of this matrix: int64\n"
          ]
        }
      ]
    },
    {
      "cell_type": "code",
      "source": [
        "print(\"Vector of zeros: \",np.zeros(5))\n",
        "print(\"Matrix of zeros: \",np.zeros((3,4)))\n",
        "print(\"Vector of ones: \",np.ones(4))\n",
        "print(\"Matrix of ones: \",np.ones((4,2)))\n",
        "print(\"Matrix of 5’s: \",5*np.ones((3,3)))\n",
        "print(\"Identity matrix of dimension 2:\",np.eye(2))\n",
        "print(\"Identity matrix of dimension 4:\",np.eye(4))\n",
        "print(\"Random matrix of shape (4,3):\\n\",np.random.randint(low=1,high=10,size=(4,3)))"
      ],
      "metadata": {
        "colab": {
          "base_uri": "https://localhost:8080/"
        },
        "id": "sEbtEiaNB6GY",
        "outputId": "e5a0fd2d-84f3-4d3d-9e5f-a551c7e02163"
      },
      "execution_count": null,
      "outputs": [
        {
          "output_type": "stream",
          "name": "stdout",
          "text": [
            "Vector of zeros:  [0. 0. 0. 0. 0.]\n",
            "Matrix of zeros:  [[0. 0. 0. 0.]\n",
            " [0. 0. 0. 0.]\n",
            " [0. 0. 0. 0.]]\n",
            "Vector of ones:  [1. 1. 1. 1.]\n",
            "Matrix of ones:  [[1. 1.]\n",
            " [1. 1.]\n",
            " [1. 1.]\n",
            " [1. 1.]]\n",
            "Matrix of 5’s:  [[5. 5. 5.]\n",
            " [5. 5. 5.]\n",
            " [5. 5. 5.]]\n",
            "Identity matrix of dimension 2: [[1. 0.]\n",
            " [0. 1.]]\n",
            "Identity matrix of dimension 4: [[1. 0. 0. 0.]\n",
            " [0. 1. 0. 0.]\n",
            " [0. 0. 1. 0.]\n",
            " [0. 0. 0. 1.]]\n",
            "Random matrix of shape (4,3):\n",
            " [[4 9 7]\n",
            " [5 5 2]\n",
            " [1 4 1]\n",
            " [2 4 2]]\n"
          ]
        }
      ]
    },
    {
      "cell_type": "code",
      "source": [
        "a = np.random.randint(1,100,30)\n",
        "b = a.reshape(2,3,5)\n",
        "c = a.reshape(6,5)\n",
        "print (\"Shape of a:\", a.shape)\n",
        "print (\"Shape of b:\", b.shape)\n",
        "print (\"Shape of c:\", c.shape)"
      ],
      "metadata": {
        "colab": {
          "base_uri": "https://localhost:8080/"
        },
        "id": "QaM-CbbIB8O3",
        "outputId": "8dc1b7e2-7fa0-423c-839b-c059a0ab0882"
      },
      "execution_count": null,
      "outputs": [
        {
          "output_type": "stream",
          "name": "stdout",
          "text": [
            "Shape of a: (30,)\n",
            "Shape of b: (2, 3, 5)\n",
            "Shape of c: (6, 5)\n"
          ]
        }
      ]
    },
    {
      "cell_type": "code",
      "source": [
        "print(\"\\na looks like:\\n\",a)\n",
        "print(\"\\nb looks like:\\n\",b)\n",
        "print(\"\\nc looks like:\\n\",c)"
      ],
      "metadata": {
        "colab": {
          "base_uri": "https://localhost:8080/"
        },
        "id": "USU7wyOZCCf3",
        "outputId": "1ea45df6-9708-4d8e-a52e-b7a151064a5a"
      },
      "execution_count": null,
      "outputs": [
        {
          "output_type": "stream",
          "name": "stdout",
          "text": [
            "\n",
            "a looks like:\n",
            " [17  6 24 67 72 11 25 28 69 98 36 48 12 86  2 11  7 50 97 86 49 58 57 81\n",
            " 43 33 63 20 63 42]\n",
            "\n",
            "b looks like:\n",
            " [[[17  6 24 67 72]\n",
            "  [11 25 28 69 98]\n",
            "  [36 48 12 86  2]]\n",
            "\n",
            " [[11  7 50 97 86]\n",
            "  [49 58 57 81 43]\n",
            "  [33 63 20 63 42]]]\n",
            "\n",
            "c looks like:\n",
            " [[17  6 24 67 72]\n",
            " [11 25 28 69 98]\n",
            " [36 48 12 86  2]\n",
            " [11  7 50 97 86]\n",
            " [49 58 57 81 43]\n",
            " [33 63 20 63 42]]\n"
          ]
        }
      ]
    },
    {
      "cell_type": "code",
      "source": [
        "b_flat = b.ravel()\n",
        "print(b_flat)"
      ],
      "metadata": {
        "colab": {
          "base_uri": "https://localhost:8080/"
        },
        "id": "C64zDoQHCFof",
        "outputId": "9a94a8bf-55b5-4580-d39b-0130239dab39"
      },
      "execution_count": null,
      "outputs": [
        {
          "output_type": "stream",
          "name": "stdout",
          "text": [
            "[17  6 24 67 72 11 25 28 69 98 36 48 12 86  2 11  7 50 97 86 49 58 57 81\n",
            " 43 33 63 20 63 42]\n"
          ]
        }
      ]
    },
    {
      "cell_type": "code",
      "source": [
        "arr = np.arange(0,11)\n",
        "print(\"Array:\",arr)\n",
        "print(\"Element at 7th index is:\", arr[7])\n",
        "print(\"Elements from 3rd to 5th index are:\", arr[3:6])\n",
        "print(\"Elements up to 4th index are:\", arr[:4])\n",
        "print(\"Elements from last backwards are:\", arr[-1::-1])\n",
        "print(\"3 Elements from last backwards are:\", arr[-1:-6:-2])\n",
        "\n",
        "arr2 = np.arange(0,21,2)\n",
        "print(\"New array:\",arr2)\n",
        "print(\"Elements at 2nd, 4th, and 9th index are:\", arr2[[2,4,9]]) # Pass a list as a index to subset"
      ],
      "metadata": {
        "colab": {
          "base_uri": "https://localhost:8080/"
        },
        "id": "TU0xLGm4CHcP",
        "outputId": "705af204-00e5-451d-8624-b52bfbc76e8f"
      },
      "execution_count": null,
      "outputs": [
        {
          "output_type": "stream",
          "name": "stdout",
          "text": [
            "Array: [ 0  1  2  3  4  5  6  7  8  9 10]\n",
            "Element at 7th index is: 7\n",
            "Elements from 3rd to 5th index are: [3 4 5]\n",
            "Elements up to 4th index are: [0 1 2 3]\n",
            "Elements from last backwards are: [10  9  8  7  6  5  4  3  2  1  0]\n",
            "3 Elements from last backwards are: [10  8  6]\n",
            "New array: [ 0  2  4  6  8 10 12 14 16 18 20]\n",
            "Elements at 2nd, 4th, and 9th index are: [ 4  8 18]\n"
          ]
        }
      ]
    },
    {
      "cell_type": "code",
      "source": [
        "mat = np.random.randint(10,100,15).reshape(3,5)\n",
        "print(\"Matrix of random 2-digit numbers\\n\",mat)\n",
        "\n",
        "print(\"\\nDouble bracket indexing\\n\")\n",
        "print(\"Element in row index 1 and column index 2:\", mat[1][2])\n",
        "\n",
        "print(\"\\nSingle bracket with comma indexing\\n\")\n",
        "print(\"Element in row index 1 and column index 2:\", mat[1,2])\n",
        "print(\"\\nRow or column extract\\n\")\n",
        "\n",
        "print(\"Entire row at index 2:\", mat[2])\n",
        "print(\"Entire column at index 3:\", mat[:,3])\n",
        "\n",
        "print(\"\\nSubsetting sub-matrices\\n\")\n",
        "print(\"Matrix with row indices 1 and 2 and column indices 3 and 4\\n\", mat[1:3,3:5])\n",
        "print(\"Matrix with row indices 0 and 1 and column indices 1 and 3\\n\", mat[0:2,[1,3]])"
      ],
      "metadata": {
        "colab": {
          "base_uri": "https://localhost:8080/"
        },
        "id": "xKT6G7czCNtH",
        "outputId": "69341ce5-ceee-48f5-a46f-dafe6895a755"
      },
      "execution_count": null,
      "outputs": [
        {
          "output_type": "stream",
          "name": "stdout",
          "text": [
            "Matrix of random 2-digit numbers\n",
            " [[99 67 44 76 35]\n",
            " [79 94 99 60 18]\n",
            " [36 85 21 19 37]]\n",
            "\n",
            "Double bracket indexing\n",
            "\n",
            "Element in row index 1 and column index 2: 99\n",
            "\n",
            "Single bracket with comma indexing\n",
            "\n",
            "Element in row index 1 and column index 2: 99\n",
            "\n",
            "Row or column extract\n",
            "\n",
            "Entire row at index 2: [36 85 21 19 37]\n",
            "Entire column at index 3: [76 60 19]\n",
            "\n",
            "Subsetting sub-matrices\n",
            "\n",
            "Matrix with row indices 1 and 2 and column indices 3 and 4\n",
            " [[60 18]\n",
            " [19 37]]\n",
            "Matrix with row indices 0 and 1 and column indices 1 and 3\n",
            " [[67 76]\n",
            " [94 60]]\n"
          ]
        }
      ]
    },
    {
      "cell_type": "code",
      "source": [
        "mat = np.random.randint(10,100,15).reshape(3,5)\n",
        "print(\"Matrix of random 2-digit numbers\\n\",mat)\n",
        "print (\"\\nElements greater than 50\\n\", mat[mat>50])"
      ],
      "metadata": {
        "colab": {
          "base_uri": "https://localhost:8080/"
        },
        "id": "HdcZsEktCRYH",
        "outputId": "e9053d28-b7fb-4892-c537-8cf8209759ed"
      },
      "execution_count": null,
      "outputs": [
        {
          "output_type": "stream",
          "name": "stdout",
          "text": [
            "Matrix of random 2-digit numbers\n",
            " [[19 21 87 10 48]\n",
            " [85 65 65 73 54]\n",
            " [36 94 33 33 72]]\n",
            "\n",
            "Elements greater than 50\n",
            " [87 85 65 65 73 54 94 72]\n"
          ]
        }
      ]
    },
    {
      "cell_type": "code",
      "source": [
        "mat>50"
      ],
      "metadata": {
        "colab": {
          "base_uri": "https://localhost:8080/"
        },
        "id": "jZ1r25-KCZHX",
        "outputId": "b664fbb9-73aa-476d-d2f2-3fd32d8ab94c"
      },
      "execution_count": null,
      "outputs": [
        {
          "output_type": "execute_result",
          "data": {
            "text/plain": [
              "array([[False, False,  True, False, False],\n",
              "       [ True,  True,  True,  True,  True],\n",
              "       [False,  True, False, False,  True]])"
            ]
          },
          "metadata": {},
          "execution_count": 22
        }
      ]
    },
    {
      "cell_type": "code",
      "source": [
        "mat*(mat>50)"
      ],
      "metadata": {
        "colab": {
          "base_uri": "https://localhost:8080/"
        },
        "id": "n8-zSBHUCcdm",
        "outputId": "b33b65e2-5079-4354-97b5-8f9d0bc504e3"
      },
      "execution_count": null,
      "outputs": [
        {
          "output_type": "execute_result",
          "data": {
            "text/plain": [
              "array([[ 0,  0, 87,  0,  0],\n",
              "       [85, 65, 65, 73, 54],\n",
              "       [ 0, 94,  0,  0, 72]])"
            ]
          },
          "metadata": {},
          "execution_count": 23
        }
      ]
    },
    {
      "cell_type": "code",
      "source": [
        "mat1 = np.random.randint(1,10,9).reshape(3,3)\n",
        "mat2 = np.random.randint(1,10,9).reshape(3,3)\n",
        "print(\"\\n1st Matrix of random single-digit numbers\\n\",mat1)\n",
        "print(\"\\n2nd Matrix of random single-digit numbers\\n\",mat2)\n",
        "\n",
        "print(\"\\nAddition\\n\", mat1+mat2)\n",
        "print(\"\\nMultiplication\\n\", mat1*mat2)\n",
        "print(\"\\nDivision\\n\", mat1/mat2)\n",
        "print(\"\\nLineaer combination: 3*A - 2*B\\n\", 3*mat1-2*mat2)\n",
        "\n",
        "print(\"\\nAddition of a scalar (100)\\n\", 100+mat1)\n",
        "\n",
        "print(\"\\nExponentiation, matrix cubed here\\n\", mat1**3)\n",
        "print(\"\\nExponentiation, sq-root using pow function\\n\",pow(mat1,0.5))"
      ],
      "metadata": {
        "colab": {
          "base_uri": "https://localhost:8080/"
        },
        "id": "mwzaihaPCgIm",
        "outputId": "d7778509-9ca4-4c07-f0f5-7e1a2af99ceb"
      },
      "execution_count": null,
      "outputs": [
        {
          "output_type": "stream",
          "name": "stdout",
          "text": [
            "\n",
            "1st Matrix of random single-digit numbers\n",
            " [[5 3 8]\n",
            " [4 2 1]\n",
            " [4 5 9]]\n",
            "\n",
            "2nd Matrix of random single-digit numbers\n",
            " [[1 9 7]\n",
            " [6 7 2]\n",
            " [8 3 5]]\n",
            "\n",
            "Addition\n",
            " [[ 6 12 15]\n",
            " [10  9  3]\n",
            " [12  8 14]]\n",
            "\n",
            "Multiplication\n",
            " [[ 5 27 56]\n",
            " [24 14  2]\n",
            " [32 15 45]]\n",
            "\n",
            "Division\n",
            " [[5.         0.33333333 1.14285714]\n",
            " [0.66666667 0.28571429 0.5       ]\n",
            " [0.5        1.66666667 1.8       ]]\n",
            "\n",
            "Lineaer combination: 3*A - 2*B\n",
            " [[13 -9 10]\n",
            " [ 0 -8 -1]\n",
            " [-4  9 17]]\n",
            "\n",
            "Addition of a scalar (100)\n",
            " [[105 103 108]\n",
            " [104 102 101]\n",
            " [104 105 109]]\n",
            "\n",
            "Exponentiation, matrix cubed here\n",
            " [[125  27 512]\n",
            " [ 64   8   1]\n",
            " [ 64 125 729]]\n",
            "\n",
            "Exponentiation, sq-root using pow function\n",
            " [[2.23606798 1.73205081 2.82842712]\n",
            " [2.         1.41421356 1.        ]\n",
            " [2.         2.23606798 3.        ]]\n"
          ]
        }
      ]
    },
    {
      "cell_type": "code",
      "source": [
        "import pandas as pd"
      ],
      "metadata": {
        "id": "k9Mtm9r8CieX"
      },
      "execution_count": null,
      "outputs": []
    },
    {
      "cell_type": "code",
      "source": [
        "labels = ['a','b','c']\n",
        "my_data = [10,20,30]\n",
        "arr = np.array(my_data)\n",
        "d = {'a':10,'b':20,'c':30}\n",
        "\n",
        "print (\"Labels:\", labels)\n",
        "print(\"My data:\", my_data)\n",
        "print(\"Dictionary:\", d)"
      ],
      "metadata": {
        "colab": {
          "base_uri": "https://localhost:8080/"
        },
        "id": "7cksjUwOCmpv",
        "outputId": "e8270f2b-897e-4c2e-8e1f-394fcfb31d62"
      },
      "execution_count": null,
      "outputs": [
        {
          "output_type": "stream",
          "name": "stdout",
          "text": [
            "Labels: ['a', 'b', 'c']\n",
            "My data: [10, 20, 30]\n",
            "Dictionary: {'a': 10, 'b': 20, 'c': 30}\n"
          ]
        }
      ]
    },
    {
      "cell_type": "code",
      "source": [
        "s1=pd.Series(data=my_data)\n",
        "print(s1)"
      ],
      "metadata": {
        "colab": {
          "base_uri": "https://localhost:8080/"
        },
        "id": "9ilt4c9ZCpyv",
        "outputId": "01a5cb18-4a2e-4190-8777-3b74db39c9a3"
      },
      "execution_count": null,
      "outputs": [
        {
          "output_type": "stream",
          "name": "stdout",
          "text": [
            "0    10\n",
            "1    20\n",
            "2    30\n",
            "dtype: int64\n"
          ]
        }
      ]
    }
  ]
}