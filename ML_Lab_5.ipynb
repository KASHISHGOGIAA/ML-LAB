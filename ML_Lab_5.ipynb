{
  "nbformat": 4,
  "nbformat_minor": 0,
  "metadata": {
    "colab": {
      "provenance": [],
      "authorship_tag": "ABX9TyPAITENoAC6z2DPPGRa73EB",
      "include_colab_link": true
    },
    "kernelspec": {
      "name": "python3",
      "display_name": "Python 3"
    },
    "language_info": {
      "name": "python"
    }
  },
  "cells": [
    {
      "cell_type": "markdown",
      "metadata": {
        "id": "view-in-github",
        "colab_type": "text"
      },
      "source": [
        "<a href=\"https://colab.research.google.com/github/KASHISHGOGIAA/ML-LAB/blob/main/ML_Lab_5.ipynb\" target=\"_parent\"><img src=\"https://colab.research.google.com/assets/colab-badge.svg\" alt=\"Open In Colab\"/></a>"
      ]
    },
    {
      "cell_type": "code",
      "source": [
        "import numpy as np\n",
        "\n",
        "x = np.array([4, 8, 13, 7])\n",
        "y = np.array([11, 4, 5, 14])\n",
        "\n",
        "data = np.column_stack((x, y))\n",
        "\n",
        "cov_matrix = np.cov(data.T)\n",
        "print(\"Covariance Matrix:\\n\", cov_matrix)\n",
        "\n",
        "eigen_values, eigen_vectors = np.linalg.eig(cov_matrix)\n",
        "\n",
        "print(\"\\nEigenvalues:\\n\", eigen_values)\n",
        "print(\"\\nEigenvectors:\\n\", eigen_vectors)\n",
        "\n",
        "sorted_indices = np.argsort(eigen_values)[::-1]\n",
        "sorted_eigenvalues = eigen_values[sorted_indices]\n",
        "sorted_eigenvectors = eigen_vectors[:, sorted_indices]\n",
        "\n",
        "print(\"\\nSorted Eigenvalues:\\n\", sorted_eigenvalues)\n",
        "print(\"\\nSorted Eigenvectors:\\n\", sorted_eigenvectors)\n",
        "exponentary data analysis,\n"
      ],
      "metadata": {
        "colab": {
          "base_uri": "https://localhost:8080/"
        },
        "id": "SipaJ0g5VbNO",
        "outputId": "b2117d70-7162-42bf-a981-d001c0d56553"
      },
      "execution_count": null,
      "outputs": [
        {
          "output_type": "stream",
          "name": "stdout",
          "text": [
            "Covariance Matrix:\n",
            " [[ 14. -11.]\n",
            " [-11.  23.]]\n",
            "\n",
            "Eigenvalues:\n",
            " [ 6.61513568 30.38486432]\n",
            "\n",
            "Eigenvectors:\n",
            " [[-0.83025082  0.55738997]\n",
            " [-0.55738997 -0.83025082]]\n",
            "\n",
            "Sorted Eigenvalues:\n",
            " [30.38486432  6.61513568]\n",
            "\n",
            "Sorted Eigenvectors:\n",
            " [[ 0.55738997 -0.83025082]\n",
            " [-0.83025082 -0.55738997]]\n"
          ]
        }
      ]
    }
  ]
}